{
 "cells": [
  {
   "cell_type": "markdown",
   "metadata": {},
   "source": [
    "### 1. 반지름 값을 입력받아 원의 넓이를 구하여 출력하는 프로그램을 구현하세요. π는 3.141592 입니다. 내부 모듈을 사용하여도 됩니다. "
   ]
  },
  {
   "cell_type": "code",
   "execution_count": null,
   "metadata": {},
   "outputs": [
    {
     "name": "stdout",
     "output_type": "stream",
     "text": [
      "반지름 2의 원의 넓이 : 12.566368\n"
     ]
    }
   ],
   "source": [
    "import math\n",
    "\n",
    "r = int(input(\"반지름 : \"))\n",
    "a = math.pi * (r ** 2)\n",
    "print(f\"반지름 {r}의 원의 넓이 : {a}\")\n",
    "\n",
    "# pi = 3.141592\n",
    "\n",
    "# r = int(input(\"반지름 : \"))\n",
    "# a = pi * (r ** 2)\n",
    "# print(f\"반지름 {r}의 원의 넓이 : {a}\")"
   ]
  },
  {
   "cell_type": "markdown",
   "metadata": {},
   "source": [
    "### 2. 영문이름을 입력하면 웹사이트 주소가 리턴되는 함수, get_url() 를  구현하세요.\n",
    "예) url = get_url('google') \n",
    "print(url) # www.google.com"
   ]
  },
  {
   "cell_type": "code",
   "execution_count": 1,
   "metadata": {},
   "outputs": [
    {
     "name": "stdout",
     "output_type": "stream",
     "text": [
      "www.google.com\n"
     ]
    }
   ],
   "source": [
    "site = input()\n",
    "\n",
    "def get_url(site):\n",
    "    return f'www.{site}.com'\n",
    "\n",
    "url = get_url(site)\n",
    "print(url)\n",
    "\n",
    "# site = input('웹 사이트 : ')\n",
    "# print(f'www.{site}.com')"
   ]
  },
  {
   "cell_type": "markdown",
   "metadata": {},
   "source": [
    "### 3. 구구단을 수행할 단번호를 입력하면 그 단의 9까지의 결과를 나열하는 프로그램을 입력하세요.\n",
    "예) 3 --> 3 6 9 12 15 18 21 24 27"
   ]
  },
  {
   "cell_type": "code",
   "execution_count": 72,
   "metadata": {},
   "outputs": [
    {
     "name": "stdout",
     "output_type": "stream",
     "text": [
      "3 --> 3 6 9 12 15 18 21 24 27 "
     ]
    }
   ],
   "source": [
    "gugudan = int(input(\"단 번호 : \"))\n",
    "print(f'{gugudan} -->', end=' ')\n",
    "\n",
    "for i in range(1, 10):\n",
    "    print(gugudan * i, end=' ') "
   ]
  },
  {
   "cell_type": "markdown",
   "metadata": {},
   "source": [
    "### 4. 입력한 수를 거꾸로 출력하는 프로그램을 구현하세요.\n",
    "예) 1 3 5 7 9 --> 9 7 5 3 1"
   ]
  },
  {
   "cell_type": "code",
   "execution_count": 12,
   "metadata": {},
   "outputs": [
    {
     "name": "stdout",
     "output_type": "stream",
     "text": [
      "9 7 5 3 1 "
     ]
    }
   ],
   "source": [
    "num = input().split()\n",
    "\n",
    "num.reverse()\n",
    "\n",
    "for i in range(len(num)):\n",
    "    print(num[i], end=' ')"
   ]
  },
  {
   "cell_type": "markdown",
   "metadata": {},
   "source": [
    "### 5. SmartPhone 이라는 클래스를 만들고, 객체를 생성해서 phoneOwner, phoneNumber, company 등의 멤버변수(속성)을 가지도록 만드세요.(본인이 다른 기능을 좀 더 추가하여도 무방합니다)"
   ]
  },
  {
   "cell_type": "code",
   "execution_count": 13,
   "metadata": {},
   "outputs": [],
   "source": [
    "class SmartPhone:\n",
    "    def __init__(self, phoneOwer, phoneNumber, company):\n",
    "        self.__phoneOwer = phoneOwer\n",
    "        self.__phoneNumber = phoneNumber\n",
    "        self.__company = company\n",
    "        \n",
    "    def __str__(self):\n",
    "        return f'휴대폰 소유자 : {self.__phoneOwer}, 휴대폰 번호 : {self.__phoneNumber}, 휴대폰 제조사 : {self.__company}'"
   ]
  }
 ],
 "metadata": {
  "kernelspec": {
   "display_name": "3.11.9",
   "language": "python",
   "name": "python3"
  },
  "language_info": {
   "codemirror_mode": {
    "name": "ipython",
    "version": 3
   },
   "file_extension": ".py",
   "mimetype": "text/x-python",
   "name": "python",
   "nbconvert_exporter": "python",
   "pygments_lexer": "ipython3",
   "version": "3.11.9"
  }
 },
 "nbformat": 4,
 "nbformat_minor": 2
}
